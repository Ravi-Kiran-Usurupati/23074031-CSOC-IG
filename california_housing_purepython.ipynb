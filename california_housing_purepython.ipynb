{
 "cells": [
  {
   "cell_type": "markdown",
   "id": "a4fa661b",
   "metadata": {},
   "source": [
    "Python implementation with out using Numpy and sklearn modules\n",
    " "
   ]
  },
  {
   "cell_type": "code",
   "execution_count": 3,
   "id": "51982375",
   "metadata": {},
   "outputs": [],
   "source": [
    "import pandas as pd\n",
    "import random\n",
    "import time\n"
   ]
  },
  {
   "cell_type": "markdown",
   "id": "7c8bb853",
   "metadata": {},
   "source": [
    "I used pandas and not wrote the pure python code using csv module for reading the csv files.\n"
   ]
  },
  {
   "cell_type": "code",
   "execution_count": 4,
   "id": "d62b4721",
   "metadata": {},
   "outputs": [],
   "source": [
    "def ShuffleAndSplit(X, y, test_size=0.2, random_seed=None):\n",
    "    if random_seed is not None:\n",
    "        random.seed(random_seed)\n",
    "\n",
    "    n = len(X)\n",
    "    indices = list(range(n))\n",
    "    random.shuffle(indices)\n",
    "\n",
    "    split = int(n * (1 - test_size))\n",
    "\n",
    "    X_train = [X[i] for i in indices[:split]]\n",
    "    y_train = [y[i] for i in indices[:split]]\n",
    "    X_test = [X[i] for i in indices[split:]]\n",
    "    y_test = [y[i] for i in indices[split:]]\n",
    "\n",
    "    return (X_train,y_train),(X_test, y_test)"
   ]
  },
  {
   "cell_type": "code",
   "execution_count": 5,
   "id": "175f1643",
   "metadata": {},
   "outputs": [],
   "source": [
    "def LoadData(filepath):\n",
    "    df=pd.read_csv(filepath)\n",
    "    #filling NaN as 0.0\n",
    "    \n",
    "    df['total_bedrooms'].fillna(0.0, inplace=True)\n",
    "    #with pandas also we can convert categorical column to numerical columns same like one hot encoding\n",
    "    df = pd.get_dummies(df, columns=['ocean_proximity'], dtype=int)\n",
    "    X = df.drop('median_house_value', axis=1)\n",
    "    y = df['median_house_value']\n",
    "    #For Normalization\n",
    "    X = (X - X.min()) / (X.max() - X.min())\n",
    "    (X_train, y_train), (X_test, y_test)= ShuffleAndSplit(X.values.tolist(), y.values.tolist(), test_size=0.2, random_seed=42)\n",
    "    return (X_train, y_train), (X_test, y_test)\n",
    "\n",
    "    \n"
   ]
  },
  {
   "cell_type": "code",
   "execution_count": 6,
   "id": "96a81035",
   "metadata": {},
   "outputs": [],
   "source": [
    "def Predict(X, W):\n",
    "    return [sum(xi * wi for xi, wi in zip(x, W)) for x in X]"
   ]
  },
  {
   "cell_type": "code",
   "execution_count": 7,
   "id": "881226be",
   "metadata": {},
   "outputs": [],
   "source": [
    "\n",
    "def ComputeCost(X, y, W):\n",
    "    m = len(y)\n",
    "    preds = Predict(X, W)\n",
    "    return sum((p - yi)**2 for p, yi in zip(preds, y)) / m\n"
   ]
  },
  {
   "cell_type": "markdown",
   "id": "b6ac9acc",
   "metadata": {},
   "source": [
    "for error I used (predicted-actual) not (actual-predicted) there is no significant difference as i adjusted formula according to it "
   ]
  },
  {
   "cell_type": "code",
   "execution_count": 8,
   "id": "2a987dda",
   "metadata": {},
   "outputs": [],
   "source": [
    "def GradientDescent(X, y, lr=0.01, epochs=100):\n",
    "    m = len(y)\n",
    "    n = len(X[0])\n",
    "    W = [0.0] * n\n",
    "    CostHistory = []\n",
    "\n",
    "    for epoch in range(epochs):\n",
    "        preds = Predict(X, W)\n",
    "        gradients = [0.0] * n\n",
    "        for i in range(m):\n",
    "            error = preds[i] - y[i]\n",
    "            for j in range(n):\n",
    "                gradients[j] += 2*error * X[i][j]\n",
    "\n",
    "        for j in range(n):\n",
    "            W[j] -= (lr/m ) * gradients[j]\n",
    "\n",
    "        cost = ComputeCost(X, y, W)\n",
    "        CostHistory.append(cost)\n",
    "\n",
    "        if epoch % 10 == 0:\n",
    "            print(f\"Epoch {epoch}: Cost = {cost}\")\n",
    "\n",
    "    return W, CostHistory"
   ]
  },
  {
   "cell_type": "code",
   "execution_count": 9,
   "id": "6ad8e923",
   "metadata": {},
   "outputs": [
    {
     "name": "stderr",
     "output_type": "stream",
     "text": [
      "C:\\Users\\ravik\\AppData\\Local\\Temp\\ipykernel_28484\\4046431317.py:5: FutureWarning: A value is trying to be set on a copy of a DataFrame or Series through chained assignment using an inplace method.\n",
      "The behavior will change in pandas 3.0. This inplace method will never work because the intermediate object on which we are setting values always behaves as a copy.\n",
      "\n",
      "For example, when doing 'df[col].method(value, inplace=True)', try using 'df.method({col: value}, inplace=True)' or df[col] = df[col].method(value) instead, to perform the operation inplace on the original object.\n",
      "\n",
      "\n",
      "  df['total_bedrooms'].fillna(0.0, inplace=True)\n"
     ]
    },
    {
     "name": "stdout",
     "output_type": "stream",
     "text": [
      "Epoch 0: Cost = 52446219266.96016\n",
      "Epoch 10: Cost = 29319914242.81326\n",
      "Epoch 20: Cost = 19370248433.31422\n",
      "Epoch 30: Cost = 14978855175.373264\n",
      "Epoch 40: Cost = 12945339712.816784\n",
      "Epoch 50: Cost = 11923153603.489016\n",
      "Epoch 60: Cost = 11344031280.950043\n",
      "Epoch 70: Cost = 10966750003.032211\n",
      "Epoch 80: Cost = 10687757014.081917\n",
      "Epoch 90: Cost = 10461647959.955685\n",
      "Epoch 100: Cost = 10267737158.599892\n",
      "Epoch 110: Cost = 10095975044.464409\n",
      "Epoch 120: Cost = 9940992618.469898\n",
      "Epoch 130: Cost = 9799564374.931536\n",
      "Epoch 140: Cost = 9669512757.362528\n",
      "Epoch 150: Cost = 9549223312.843225\n",
      "Epoch 160: Cost = 9437420784.829174\n",
      "Epoch 170: Cost = 9333058444.976606\n",
      "Epoch 180: Cost = 9235257938.22449\n",
      "Epoch 190: Cost = 9143272728.255602\n",
      "Epoch 200: Cost = 9056463383.79997\n",
      "Epoch 210: Cost = 8974279403.537258\n",
      "Epoch 220: Cost = 8896245063.770914\n",
      "Epoch 230: Cost = 8821948001.940998\n",
      "Epoch 240: Cost = 8751029811.110878\n",
      "Epoch 250: Cost = 8683178192.63292\n",
      "Epoch 260: Cost = 8618120356.76436\n",
      "Epoch 270: Cost = 8555617443.223368\n",
      "Epoch 280: Cost = 8495459785.941166\n",
      "Epoch 290: Cost = 8437462882.377905\n",
      "Epoch 300: Cost = 8381463954.312109\n",
      "Epoch 310: Cost = 8327319007.355436\n",
      "Epoch 320: Cost = 8274900312.463862\n",
      "Epoch 330: Cost = 8224094245.558594\n",
      "Epoch 340: Cost = 8174799431.791582\n",
      "Epoch 350: Cost = 8126925149.523733\n",
      "Epoch 360: Cost = 8080389956.120041\n",
      "Epoch 370: Cost = 8035120503.5013075\n",
      "Epoch 380: Cost = 7991050516.255693\n",
      "Epoch 390: Cost = 7948119909.184682\n",
      "Epoch 400: Cost = 7906274024.579243\n",
      "Epoch 410: Cost = 7865462972.406638\n",
      "Epoch 420: Cost = 7825641059.027952\n",
      "Epoch 430: Cost = 7786766292.135219\n",
      "Epoch 440: Cost = 7748799951.355459\n",
      "Epoch 450: Cost = 7711706215.466661\n",
      "Epoch 460: Cost = 7675451838.448736\n",
      "Epoch 470: Cost = 7640005867.684743\n",
      "Epoch 480: Cost = 7605339398.562385\n",
      "Epoch 490: Cost = 7571425360.526792\n",
      "Epoch 500: Cost = 7538238330.322555\n",
      "Epoch 510: Cost = 7505754368.752875\n",
      "Epoch 520: Cost = 7473950877.790408\n",
      "Epoch 530: Cost = 7442806475.310134\n",
      "Epoch 540: Cost = 7412300885.089491\n",
      "Epoch 550: Cost = 7382414840.043613\n",
      "Epoch 560: Cost = 7353129996.941425\n",
      "Epoch 570: Cost = 7324428861.087728\n",
      "Epoch 580: Cost = 7296294719.662693\n",
      "Epoch 590: Cost = 7268711582.588068\n",
      "Epoch 600: Cost = 7241664129.942736\n",
      "Epoch 610: Cost = 7215137665.08257\n",
      "Epoch 620: Cost = 7189118072.733655\n",
      "Epoch 630: Cost = 7163591781.42645\n",
      "Epoch 640: Cost = 7138545729.723453\n",
      "Epoch 650: Cost = 7113967335.766353\n",
      "Epoch 660: Cost = 7089844469.731978\n",
      "Epoch 670: Cost = 7066165428.841147\n",
      "Epoch 680: Cost = 7042918914.611732\n",
      "Epoch 690: Cost = 7020094012.0881405\n",
      "Epoch 700: Cost = 6997680170.814727\n",
      "Epoch 710: Cost = 6975667187.351087\n",
      "Epoch 720: Cost = 6954045189.1536665\n",
      "Epoch 730: Cost = 6932804619.670841\n",
      "Epoch 740: Cost = 6911936224.518408\n",
      "Epoch 750: Cost = 6891431038.619468\n",
      "Epoch 760: Cost = 6871280374.207485\n",
      "Epoch 770: Cost = 6851475809.604084\n",
      "Epoch 780: Cost = 6832009178.694221\n",
      "Epoch 790: Cost = 6812872561.030975\n",
      "Epoch 800: Cost = 6794058272.510557\n",
      "Epoch 810: Cost = 6775558856.565261\n",
      "Epoch 820: Cost = 6757367075.828478\n",
      "Epoch 830: Cost = 6739475904.231197\n",
      "Epoch 840: Cost = 6721878519.494236\n",
      "Epoch 850: Cost = 6704568295.984512\n",
      "Epoch 860: Cost = 6687538797.907234\n",
      "Epoch 870: Cost = 6670783772.809017\n",
      "Epoch 880: Cost = 6654297145.369641\n",
      "Epoch 890: Cost = 6638073011.462518\n",
      "Epoch 900: Cost = 6622105632.466008\n",
      "Epoch 910: Cost = 6606389429.809559\n",
      "Epoch 920: Cost = 6590918979.740162\n",
      "Epoch 930: Cost = 6575689008.296071\n",
      "Epoch 940: Cost = 6560694386.475915\n",
      "Epoch 950: Cost = 6545930125.592404\n",
      "Epoch 960: Cost = 6531391372.800771\n",
      "Epoch 970: Cost = 6517073406.792959\n",
      "Epoch 980: Cost = 6502971633.649251\n",
      "Epoch 990: Cost = 6489081582.839725\n",
      "\n",
      "Training completed in 59.82 seconds\n",
      "Final cost: 6476757961.199225\n",
      "\n",
      "Test MAE: 60351.17\n",
      "Test RMSE: 79326.55\n",
      "Test R² Score: 0.5326\n"
     ]
    }
   ],
   "source": [
    "if __name__ == \"__main__\":\n",
    "     # Update to your dataset path:\n",
    "    filepath = r\"C:\\myfiles\\sem4\\housing.csv\" \n",
    "    (X_train, y_train), (X_test, y_test) = LoadData(filepath)\n",
    "\n",
    "    start = time.time()\n",
    "    W, CostHistory = GradientDescent(X_train, y_train, lr=0.02, epochs=1000)\n",
    "    duration = time.time() - start\n",
    "\n",
    "    print(f\"\\nTraining completed in {duration:.2f} seconds\")\n",
    "    print(\"Final cost:\", CostHistory[-1])\n",
    "\n",
    "    # Evaluate on test data:\n",
    "    preds = Predict(X_test, W)\n",
    "    m = len(y_test)\n",
    "    mae = sum(abs(p - y) for p, y in zip(preds, y_test)) / m\n",
    "    rmse = (sum((p - y)**2 for p, y in zip(preds, y_test)) / m) ** 0.5\n",
    "    ymean = sum(y_test) / m\n",
    "    SquareSumofTotal= sum((y - ymean) ** 2 for y in y_test)\n",
    "    SquareSumofModel= sum((y - p) ** 2 for y, p in zip(y_test, preds))\n",
    "    r2 = 1 - (SquareSumofModel / SquareSumofTotal)\n",
    "\n",
    "    print(f\"\\nTest MAE: {mae:.2f}\")\n",
    "    print(f\"Test RMSE: {rmse:.2f}\")\n",
    "    print(f\"Test R² Score: {r2:.4f}\")\n"
   ]
  },
  {
   "cell_type": "code",
   "execution_count": 10,
   "id": "01fd980c",
   "metadata": {},
   "outputs": [
    {
     "data": {
      "image/png": "[encoded data removed]",
      "text/plain": [
       "<Figure size 640x480 with 1 Axes>"
      ]
     },
     "metadata": {},
     "output_type": "display_data"
    }
   ],
   "source": [
    "import matplotlib.pyplot as plt\n",
    "def plot_cost(costs):\n",
    "    plt.plot(costs, label='Gradient Descent')\n",
    "    \n",
    "    plt.xlabel('Epochs')\n",
    "    plt.ylabel('Cost')\n",
    "    plt.title('Cost Function Convergence')\n",
    "    plt.legend()\n",
    "    plt.grid(True)\n",
    "    plt.show()\n",
    "plot_cost(CostHistory)"
   ]
  }
 ],
 "metadata": {
  "kernelspec": {
   "display_name": "Python 3",
   "language": "python",
   "name": "python3"
  },
  "language_info": {
   "codemirror_mode": {
    "name": "ipython",
    "version": 3
   },
   "file_extension": ".py",
   "mimetype": "text/x-python",
   "name": "python",
   "nbconvert_exporter": "python",
   "pygments_lexer": "ipython3",
   "version": "3.12.4"
  }
 },
 "nbformat": 4,
 "nbformat_minor": 5
}
